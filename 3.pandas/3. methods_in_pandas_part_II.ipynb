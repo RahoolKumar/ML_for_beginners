{
 "cells": [
  {
   "cell_type": "code",
   "execution_count": 4,
   "metadata": {
    "collapsed": true
   },
   "outputs": [],
   "source": [
    "import pandas as pd \n",
    "\n",
    "google = pd.read_csv('csv/google_stock_price.csv', squeeze=True)\n"
   ]
  },
  {
   "cell_type": "code",
   "execution_count": 6,
   "metadata": {},
   "outputs": [
    {
     "name": "stdout",
     "output_type": "stream",
     "text": [
      "number of rows: 3012\n"
     ]
    }
   ],
   "source": [
    "print(f'number of rows: { google.count() }')\n"
   ]
  },
  {
   "cell_type": "code",
   "execution_count": 7,
   "metadata": {},
   "outputs": [
    {
     "name": "stdout",
     "output_type": "stream",
     "text": [
      "number of rows: 3012\n"
     ]
    }
   ],
   "source": [
    "print(f'number of rows: {len(google)}')\n"
   ]
  },
  {
   "cell_type": "code",
   "execution_count": 8,
   "metadata": {},
   "outputs": [
    {
     "name": "stdout",
     "output_type": "stream",
     "text": [
      "Sum: 1006942.0000000002\n"
     ]
    }
   ],
   "source": [
    "print(f'Sum: {google.sum()}')\n"
   ]
  },
  {
   "cell_type": "code",
   "execution_count": 9,
   "metadata": {},
   "outputs": [
    {
     "name": "stdout",
     "output_type": "stream",
     "text": [
      "Mean: 334.31009296148744\n"
     ]
    }
   ],
   "source": [
    "print(f'Mean: {google.mean()}')\n"
   ]
  },
  {
   "cell_type": "code",
   "execution_count": 10,
   "metadata": {},
   "outputs": [
    {
     "name": "stdout",
     "output_type": "stream",
     "text": [
      "Standard Deviation: 173.18720477113106\n"
     ]
    }
   ],
   "source": [
    "print(f'Standard Deviation: {google.std()}')\n"
   ]
  },
  {
   "cell_type": "code",
   "execution_count": 11,
   "metadata": {},
   "outputs": [
    {
     "name": "stdout",
     "output_type": "stream",
     "text": [
      "Min Value: 49.95\n"
     ]
    }
   ],
   "source": [
    "print(f'Min Value: {google.min()}')\n"
   ]
  },
  {
   "cell_type": "code",
   "execution_count": 12,
   "metadata": {},
   "outputs": [
    {
     "name": "stdout",
     "output_type": "stream",
     "text": [
      "Max Value: 782.22\n"
     ]
    }
   ],
   "source": [
    "print(f'Max Value: {google.max()}')\n"
   ]
  },
  {
   "cell_type": "code",
   "execution_count": 13,
   "metadata": {},
   "outputs": [
    {
     "name": "stdout",
     "output_type": "stream",
     "text": [
      "Min Value ID: 11\n"
     ]
    }
   ],
   "source": [
    "print(f'Min Value ID: {google.idxmin()}')\n"
   ]
  },
  {
   "cell_type": "code",
   "execution_count": 14,
   "metadata": {},
   "outputs": [
    {
     "name": "stdout",
     "output_type": "stream",
     "text": [
      "Max Value ID: 3011\n"
     ]
    }
   ],
   "source": [
    "print(f'Max Value ID: {google.idxmax()}')\n"
   ]
  },
  {
   "cell_type": "code",
   "execution_count": 15,
   "metadata": {
    "collapsed": true
   },
   "outputs": [],
   "source": [
    "def classify_per(number):\n",
    "    if number < 300:\n",
    "        return 'OK'\n",
    "    elif number > 300 and number < 650:\n",
    "        return 'Satisfactory'\n",
    "    else:\n",
    "        return 'Inredible'\n"
   ]
  },
  {
   "cell_type": "code",
   "execution_count": 16,
   "metadata": {},
   "outputs": [
    {
     "name": "stdout",
     "output_type": "stream",
     "text": [
      "apply method of pandas, example 1:\n",
      "0    OK\n",
      "1    OK\n",
      "2    OK\n",
      "3    OK\n",
      "4    OK\n",
      "Name: Stock Price, dtype: object\n"
     ]
    }
   ],
   "source": [
    "print(f'apply method of pandas, example 1:\\n{google.apply(classify_per).head()}')\n"
   ]
  },
  {
   "cell_type": "code",
   "execution_count": 17,
   "metadata": {},
   "outputs": [
    {
     "name": "stdout",
     "output_type": "stream",
     "text": [
      "apply method of pandas, example 2:\n",
      "0    100.24\n",
      "1    108.20\n",
      "2    109.30\n",
      "3    104.76\n",
      "4    105.90\n",
      "Name: Stock Price, dtype: float64\n"
     ]
    }
   ],
   "source": [
    "print(f'apply method of pandas, example 2:\\n{google.apply(lambda stock_price: stock_price*2).head()}')\n"
   ]
  }
 ],
 "metadata": {
  "kernelspec": {
   "display_name": "Python 3",
   "language": "python",
   "name": "python3"
  },
  "language_info": {
   "codemirror_mode": {
    "name": "ipython",
    "version": 3
   },
   "file_extension": ".py",
   "mimetype": "text/x-python",
   "name": "python",
   "nbconvert_exporter": "python",
   "pygments_lexer": "ipython3",
   "version": "3.6.2"
  }
 },
 "nbformat": 4,
 "nbformat_minor": 2
}
