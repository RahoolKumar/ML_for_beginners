{
 "cells": [
  {
   "cell_type": "code",
   "execution_count": 1,
   "metadata": {},
   "outputs": [
    {
     "name": "stdout",
     "output_type": "stream",
     "text": [
      "\n",
      "Example 1\n",
      "0     Chocolate\n",
      "1         Mango\n",
      "2       Vanilla\n",
      "3    Strawberry\n",
      "4        Banana\n",
      "dtype: object\n",
      "\n",
      "Example 2\n",
      "0    34\n",
      "1    66\n",
      "2    89\n",
      "3    22\n",
      "4    90\n",
      "5    12\n",
      "6     5\n",
      "dtype: int64\n",
      "\n",
      "Example 3\n",
      "0     True\n",
      "1    False\n",
      "2     True\n",
      "3     True\n",
      "4     True\n",
      "dtype: bool\n"
     ]
    }
   ],
   "source": [
    "\n",
    "# 1. Series \n",
    "import pandas as pd \n",
    "\n",
    "print('\\nExample 1')\n",
    "flavor = ['Chocolate', 'Mango', 'Vanilla', 'Strawberry', 'Banana']\n",
    "print(pd.Series(flavor))\n",
    "\n",
    "print('\\nExample 2')\n",
    "lottery = [34,66,89,22,90,12,5]\n",
    "print(pd.Series(lottery))\n",
    "\n",
    "print('\\nExample 3')\n",
    "reg = [True, False, True, True, True]\n",
    "print(pd.Series(reg))\n"
   ]
  },
  {
   "cell_type": "code",
   "execution_count": 6,
   "metadata": {},
   "outputs": [
    {
     "name": "stdout",
     "output_type": "stream",
     "text": [
      "Seires:\n",
      "0        Smart\n",
      "1     Handsome\n",
      "2     Charming\n",
      "3    Brilliant\n",
      "4       Humble\n",
      "dtype: object\n",
      "\n",
      "values:\n",
      "['Smart' 'Handsome' 'Charming' 'Brilliant' 'Humble']\n",
      "\n",
      "index:\n",
      "RangeIndex(start=0, stop=5, step=1)\n",
      "\n",
      "type:\n",
      "object\n"
     ]
    }
   ],
   "source": [
    "# 2. Attributes\n",
    "Men = ['Smart', 'Handsome', 'Charming', 'Brilliant', 'Humble']\n",
    "\n",
    "s = pd.Series(Men)\n",
    "print('Seires:')\n",
    "print(s)\n",
    "\n",
    "print('\\nvalues:')\n",
    "print(s.values)\n",
    "\n",
    "print('\\nindex:')\n",
    "print(s.index)\n",
    "\n",
    "print('\\ntype:')\n",
    "print(s.dtype)\n"
   ]
  },
  {
   "cell_type": "code",
   "execution_count": 7,
   "metadata": {},
   "outputs": [
    {
     "name": "stdout",
     "output_type": "stream",
     "text": [
      "Example 1\n",
      "sum: 310.77\n",
      "product: 783585990.18\n",
      "mean: 51.794999999999995\n",
      "\n",
      "\n",
      "Example 2\n",
      "Mon          Apple\n",
      "Tues         Mango\n",
      "Wed         Banana\n",
      "Thur       Chickoo\n",
      "Fri          Guava\n",
      "Sat     Watermelon\n",
      "Sun         Orange\n",
      "dtype: object\n"
     ]
    }
   ],
   "source": [
    "# method_parameter_argument\n",
    "\n",
    "\n",
    "import pandas as pd\n",
    "\n",
    "print('Example 1')\n",
    "Rate = [4.87, 87.5, 23.8, 98.0, 87.6, 9.0]\n",
    "r = pd.Series(Rate)\n",
    "\n",
    "print(f'sum: {r.sum()}')\n",
    "print(f'product: {r.product()}')\n",
    "print(f'mean: {r.mean()}')\n",
    "print('\\n')\n",
    "\n",
    "print('Example 2')\n",
    "fruits = ['Apple', 'Mango', 'Banana', 'Chickoo', 'Guava', 'Watermelon', 'Orange']\n",
    "days = ['Mon', 'Tues', 'Wed', 'Thur', 'Fri', 'Sat', 'Sun']\n",
    "\n",
    "print(pd.Series(index=days, data=fruits))\n"
   ]
  }
 ],
 "metadata": {
  "kernelspec": {
   "display_name": "Python 3",
   "language": "python",
   "name": "python3"
  },
  "language_info": {
   "codemirror_mode": {
    "name": "ipython",
    "version": 3
   },
   "file_extension": ".py",
   "mimetype": "text/x-python",
   "name": "python",
   "nbconvert_exporter": "python",
   "pygments_lexer": "ipython3",
   "version": "3.6.2"
  }
 },
 "nbformat": 4,
 "nbformat_minor": 2
}
