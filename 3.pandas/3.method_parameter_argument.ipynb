{
 "cells": [
  {
   "cell_type": "code",
   "execution_count": 1,
   "metadata": {},
   "outputs": [
    {
     "name": "stdout",
     "output_type": "stream",
     "text": [
      "Example 1\n",
      "sum: 310.77\n",
      "product: 783585990.18\n",
      "mean: 51.794999999999995\n",
      "\n",
      "\n",
      "Example 2\n",
      "Mon          Apple\n",
      "Tues         Mango\n",
      "Wed         Banana\n",
      "Thur       Chickoo\n",
      "Fri          Guava\n",
      "Sat     Watermelon\n",
      "Sun         Orange\n",
      "dtype: object\n"
     ]
    }
   ],
   "source": [
    "\n",
    "\n",
    "import pandas as pd\n",
    "\n",
    "print('Example 1')\n",
    "Rate = [4.87, 87.5, 23.8, 98.0, 87.6, 9.0]\n",
    "r = pd.Series(Rate)\n",
    "\n",
    "print(f'sum: {r.sum()}')\n",
    "print(f'product: {r.product()}')\n",
    "print(f'mean: {r.mean()}')\n",
    "print('\\n')\n",
    "\n",
    "print('Example 2')\n",
    "fruits = ['Apple', 'Mango', 'Banana', 'Chickoo', 'Guava', 'Watermelon', 'Orange']\n",
    "days = ['Mon', 'Tues', 'Wed', 'Thur', 'Fri', 'Sat', 'Sun']\n",
    "\n",
    "print(pd.Series(index=days, data=fruits))\n"
   ]
  }
 ],
 "metadata": {
  "kernelspec": {
   "display_name": "Python 3",
   "language": "python",
   "name": "python3"
  },
  "language_info": {
   "codemirror_mode": {
    "name": "ipython",
    "version": 3
   },
   "file_extension": ".py",
   "mimetype": "text/x-python",
   "name": "python",
   "nbconvert_exporter": "python",
   "pygments_lexer": "ipython3",
   "version": "3.6.2"
  }
 },
 "nbformat": 4,
 "nbformat_minor": 2
}
