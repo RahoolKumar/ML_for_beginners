{
 "cells": [
  {
   "cell_type": "code",
   "execution_count": 1,
   "metadata": {},
   "outputs": [
    {
     "name": "stdout",
     "output_type": "stream",
     "text": [
      "\n",
      "Example 1\n",
      "0     Chocolate\n",
      "1         Mango\n",
      "2       Vanilla\n",
      "3    Strawberry\n",
      "4        Banana\n",
      "dtype: object\n",
      "\n",
      "Example 2\n",
      "0    34\n",
      "1    66\n",
      "2    89\n",
      "3    22\n",
      "4    90\n",
      "5    12\n",
      "6     5\n",
      "dtype: int64\n",
      "\n",
      "Example 3\n",
      "0     True\n",
      "1    False\n",
      "2     True\n",
      "3     True\n",
      "4     True\n",
      "dtype: bool\n"
     ]
    }
   ],
   "source": [
    "\n",
    "\n",
    "import pandas as pd \n",
    "\n",
    "print('\\nExample 1')\n",
    "flavor = ['Chocolate', 'Mango', 'Vanilla', 'Strawberry', 'Banana']\n",
    "print(pd.Series(flavor))\n",
    "\n",
    "print('\\nExample 2')\n",
    "lottery = [34,66,89,22,90,12,5]\n",
    "print(pd.Series(lottery))\n",
    "\n",
    "print('\\nExample 3')\n",
    "reg = [True, False, True, True, True]\n",
    "print(pd.Series(reg))\n"
   ]
  }
 ],
 "metadata": {
  "kernelspec": {
   "display_name": "Python 3",
   "language": "python",
   "name": "python3"
  },
  "language_info": {
   "codemirror_mode": {
    "name": "ipython",
    "version": 3
   },
   "file_extension": ".py",
   "mimetype": "text/x-python",
   "name": "python",
   "nbconvert_exporter": "python",
   "pygments_lexer": "ipython3",
   "version": "3.6.2"
  }
 },
 "nbformat": 4,
 "nbformat_minor": 2
}
