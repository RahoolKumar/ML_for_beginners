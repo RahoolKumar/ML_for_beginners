{
 "cells": [
  {
   "cell_type": "code",
   "execution_count": 1,
   "metadata": {},
   "outputs": [
    {
     "name": "stdout",
     "output_type": "stream",
     "text": [
      "Seires:\n",
      "0        Smart\n",
      "1     Handsome\n",
      "2     Charming\n",
      "3    Brilliant\n",
      "4       Humble\n",
      "dtype: object\n",
      "\n",
      "values:\n",
      "['Smart' 'Handsome' 'Charming' 'Brilliant' 'Humble']\n",
      "\n",
      "index:\n",
      "RangeIndex(start=0, stop=5, step=1)\n",
      "\n",
      "type:\n",
      "object\n"
     ]
    }
   ],
   "source": [
    "\n",
    "\n",
    "import pandas as pd \n",
    "\n",
    "Men = ['Smart', 'Handsome', 'Charming', 'Brilliant', 'Humble']\n",
    "\n",
    "s = pd.Series(Men)\n",
    "print('Seires:')\n",
    "print(s)\n",
    "\n",
    "print('\\nvalues:')\n",
    "print(s.values)\n",
    "\n",
    "print('\\nindex:')\n",
    "print(s.index)\n",
    "\n",
    "print('\\ntype:')\n",
    "print(s.dtype)\n"
   ]
  }
 ],
 "metadata": {
  "kernelspec": {
   "display_name": "Python 3",
   "language": "python",
   "name": "python3"
  },
  "language_info": {
   "codemirror_mode": {
    "name": "ipython",
    "version": 3
   },
   "file_extension": ".py",
   "mimetype": "text/x-python",
   "name": "python",
   "nbconvert_exporter": "python",
   "pygments_lexer": "ipython3",
   "version": "3.6.2"
  }
 },
 "nbformat": 4,
 "nbformat_minor": 2
}
