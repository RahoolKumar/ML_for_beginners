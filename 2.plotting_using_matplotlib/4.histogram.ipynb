{
 "cells": [
  {
   "cell_type": "code",
   "execution_count": 1,
   "metadata": {},
   "outputs": [
    {
     "data": {
      "image/png": "[encoded data removed]",
      "text/plain": [
       "<matplotlib.figure.Figure at 0x1d81281ccf8>"
      ]
     },
     "metadata": {},
     "output_type": "display_data"
    }
   ],
   "source": [
    "\n",
    "\n",
    "import matplotlib.pyplot as plt\n",
    "\n",
    "# # 4. Histogram Plot\n",
    "ages = [2, 56, 96, 14, 78, 23, 65, 21, 45, 82, 41, 23,\n",
    "        65, 98, 74, 85, 11, 25, 99, 41, 25, 36, 14, 25]\n",
    "\n",
    "range = (0, 100)\n",
    "bins = 10\n",
    "\n",
    "plt.hist(ages, bins, range, color='green', histtype='bar', rwidth=0.7)\n",
    "\n",
    "plt.xlabel('Ages')\n",
    "plt.ylabel('Bins')\n",
    "plt.title('Histogram Plot')\n",
    "plt.show()\n"
   ]
  }
 ],
 "metadata": {
  "kernelspec": {
   "display_name": "Python 3",
   "language": "python",
   "name": "python3"
  },
  "language_info": {
   "codemirror_mode": {
    "name": "ipython",
    "version": 3
   },
   "file_extension": ".py",
   "mimetype": "text/x-python",
   "name": "python",
   "nbconvert_exporter": "python",
   "pygments_lexer": "ipython3",
   "version": "3.6.2"
  }
 },
 "nbformat": 4,
 "nbformat_minor": 2
}
